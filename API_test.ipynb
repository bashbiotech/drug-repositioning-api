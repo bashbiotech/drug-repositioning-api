{
 "cells":[
  {
   "cell_type":"code",
   "source":[
    "from drug_repositioning import *\n",
    "\n",
    "dr = Drug_Repositioning()\n",
    "\n",
    "# Get nodes that start with $keyword\n",
    "keyword = 'a'\n",
    "dr.get_nodes_autocomplete(keyword)"
   ],
   "execution_count":1,
   "outputs":[
    {
     "data":{
      "text\/plain":[
       "{'data': ['A-205804 (BRD-K77627880) (DRUG)',\n",
       "  'A-23187 (BRD-A19134330) (DRUG)',\n",
       "  'A-23187 (BRD-K41431477) (DRUG)',\n",
       "  'A-366 (BRD-K06182768) (DRUG)',\n",
       "  'A-443654 (BRD-K38615104) (DRUG)',\n",
       "  'A-443654 (BRD-K88573743) (DRUG)',\n",
       "  'A-61603 (BRD-A83650191) (DRUG)',\n",
       "  'A-66 (BRD-K49055432) (DRUG)',\n",
       "  'A-7 (BRD-K03301001) (DRUG)',\n",
       "  'A-740003 (BRD-A78952587) (DRUG)',\n",
       "  'A-769662 (BRD-K41918892) (DRUG)',\n",
       "  'A1BG (GENE)',\n",
       "  'A1BG-AS1 (GENE)',\n",
       "  'A1CF (GENE)',\n",
       "  'A2M (GENE)',\n",
       "  'A4GALT (GENE)',\n",
       "  'AADACL2 (GENE)',\n",
       "  'AADAT (GENE)',\n",
       "  'AAK1 (GENE)',\n",
       "  'AAMP (GENE)',\n",
       "  'AARS (GENE)']}"
      ]
     },
     "metadata":{
      
     },
     "output_type":"display_data"
    }
   ],
   "metadata":{
    "datalore":{
     "type":"CODE",
     "hide_input_from_viewers":false,
     "hide_output_from_viewers":false,
     "node_id":"BIjEhbTOGzabuHZHn0eXq6"
    }
   }
  },
  {
   "cell_type":"code",
   "source":[
    "from drug_repositioning import *\n",
    "\n",
    "dr = Drug_Repositioning()\n",
    "\n",
    "# Get valid cell lines of node with name $node_name and pertubation type $pert\n",
    "node_name = 'A-23187 (BRD-A19134330)'\n",
    "pert = 'OE' # OE,SH,XPR\n",
    "dr.get_cell_lines(node_name, pert)"
   ],
   "execution_count":2,
   "outputs":[
    {
     "data":{
      "text\/plain":[
       "{'data': ['U2OS']}"
      ]
     },
     "metadata":{
      
     },
     "output_type":"display_data"
    }
   ],
   "metadata":{
    "datalore":{
     "type":"CODE",
     "hide_input_from_viewers":false,
     "hide_output_from_viewers":false,
     "node_id":"hQicdo7HnrcPBqc6XpMR3e"
    }
   }
  },
  {
   "cell_type":"code",
   "source":[
    "from drug_repositioning import *\n",
    "\n",
    "dr = Drug_Repositioning()\n",
    "\n",
    "# Query node\n",
    "node_name = 'A-23187 (BRD-A19134330)'\n",
    "# Query pertubation \n",
    "pert = 'OE' # OE,SH,XPR\n",
    "# Query activation type\n",
    "isActivator = True\n",
    "# Query cell line, None (or null) for all cell line option, default being None\n",
    "cell_line = None\n",
    "# Query cut-off value, default being 0.4\n",
    "cut_off = 0.4\n",
    "dr.get_query_data(node_name,pert,isActivator,cell_line, cut_off)"
   ],
   "execution_count":3,
   "outputs":[
    {
     "data":{
      "text\/plain":[
       "{'data': {'nodes': [{'link': 'https:\/\/pubchem.ncbi.nlm.nih.gov\/compound\/40486',\n",
       "    'search_index': 'A-23187 (BRD-A19134330)',\n",
       "    'drug_cmap_name': 'A-23187',\n",
       "    'ID': 'BRD-A19134330',\n",
       "    'id': 17598,\n",
       "    'do_not_show': False}],\n",
       "  'links': []}}"
      ]
     },
     "metadata":{
      
     },
     "output_type":"display_data"
    }
   ],
   "metadata":{
    "datalore":{
     "type":"CODE",
     "hide_input_from_viewers":false,
     "hide_output_from_viewers":false,
     "node_id":"CqEl9kJEcgMZfVXHvTDqTO"
    }
   }
  },
  {
   "cell_type":"code",
   "source":[
    "from drug_repositioning import *\n",
    "dr = Drug_Repositioning()\n",
    "\n",
    "# Query node\n",
    "node_name = 'A-205804 (BRD-K77627880)'\n",
    "# Query pertubation \n",
    "pert = 'OE' # OE,SH,XPR\n",
    "# Query activation type\n",
    "isActivator = True\n",
    "# Query cell line, None (or null) for all cell line option, default being None\n",
    "cell_line = 'PC3'\n",
    "# Query cut-off value, default being 0.4\n",
    "cut_off = 0.4\n",
    "dr.get_query_data(node_name,pert,isActivator,cell_line, cut_off)"
   ],
   "execution_count":4,
   "outputs":[
    {
     "data":{
      "text\/plain":[
       "{'data': {'nodes': [{'link': 'https:\/\/pubchem.ncbi.nlm.nih.gov\/compound\/9839311',\n",
       "    'search_index': 'A-205804 (BRD-K77627880)',\n",
       "    'drug_cmap_name': 'A-205804',\n",
       "    'ID': 'BRD-K77627880',\n",
       "    'id': 11826,\n",
       "    'do_not_show': False},\n",
       "   {'search_index': 'RAB27A',\n",
       "    'gene_type': 'protein_coding',\n",
       "    'do_not_show': False,\n",
       "    'label_special_pert': 'NA',\n",
       "    'link': 'https:\/\/www.genecards.org\/cgi-bin\/carddisp.pl?gene=RAB27A',\n",
       "    'ID': 'RAB27A',\n",
       "    'id': 36307,\n",
       "    'isGene': 'true'},\n",
       "   {'search_index': 'DAXX',\n",
       "    'gene_type': 'protein_coding',\n",
       "    'label_special_pert': 'NA',\n",
       "    'do_not_show': False,\n",
       "    'link': 'https:\/\/www.genecards.org\/cgi-bin\/carddisp.pl?gene=DAXX',\n",
       "    'ID': 'DAXX',\n",
       "    'id': 34531,\n",
       "    'isGene': 'true'},\n",
       "   {'search_index': 'BTG1',\n",
       "    'gene_type': 'protein_coding',\n",
       "    'label_special_pert': 'NA',\n",
       "    'do_not_show': False,\n",
       "    'link': 'https:\/\/www.genecards.org\/cgi-bin\/carddisp.pl?gene=BTG1',\n",
       "    'ID': 'BTG1',\n",
       "    'id': 34194,\n",
       "    'isGene': 'true'},\n",
       "   {'search_index': 'FAS',\n",
       "    'gene_type': 'protein_coding',\n",
       "    'label_special_pert': 'NA',\n",
       "    'do_not_show': False,\n",
       "    'link': 'https:\/\/www.genecards.org\/cgi-bin\/carddisp.pl?gene=FAS',\n",
       "    'ID': 'FAS',\n",
       "    'id': 34809,\n",
       "    'isGene': 'true'},\n",
       "   {'search_index': 'ARIH1',\n",
       "    'gene_type': 'protein_coding',\n",
       "    'do_not_show': False,\n",
       "    'label_special_pert': 'NA',\n",
       "    'link': 'https:\/\/www.genecards.org\/cgi-bin\/carddisp.pl?gene=ARIH1',\n",
       "    'ID': 'ARIH1',\n",
       "    'id': 40273,\n",
       "    'isGene': 'true'},\n",
       "   {'search_index': 'EIF4E3',\n",
       "    'gene_type': 'protein_coding',\n",
       "    'do_not_show': False,\n",
       "    'label_special_pert': 'NA',\n",
       "    'link': 'https:\/\/www.genecards.org\/cgi-bin\/carddisp.pl?gene=EIF4E3',\n",
       "    'ID': 'EIF4E3',\n",
       "    'id': 41048,\n",
       "    'isGene': 'true'}],\n",
       "  'links': [{'start': 11826,\n",
       "    'end': 36307,\n",
       "    'correlation': 0.416191469529499,\n",
       "    'effect_type': 'activator',\n",
       "    'cell_line': 'PC3'},\n",
       "   {'start': 11826,\n",
       "    'end': 34531,\n",
       "    'correlation': 0.415364210561877,\n",
       "    'effect_type': 'activator',\n",
       "    'cell_line': 'PC3'},\n",
       "   {'start': 11826,\n",
       "    'end': 34194,\n",
       "    'correlation': 0.412204536205009,\n",
       "    'effect_type': 'activator',\n",
       "    'cell_line': 'PC3'},\n",
       "   {'start': 11826,\n",
       "    'end': 34809,\n",
       "    'correlation': 0.409596093985536,\n",
       "    'effect_type': 'activator',\n",
       "    'cell_line': 'PC3'},\n",
       "   {'start': 11826,\n",
       "    'end': 40273,\n",
       "    'correlation': 0.401534774603024,\n",
       "    'effect_type': 'activator',\n",
       "    'cell_line': 'PC3'},\n",
       "   {'start': 11826,\n",
       "    'end': 41048,\n",
       "    'correlation': 0.401162323306225,\n",
       "    'effect_type': 'activator',\n",
       "    'cell_line': 'PC3'}]}}"
      ]
     },
     "metadata":{
      
     },
     "output_type":"display_data"
    }
   ],
   "metadata":{
    "datalore":{
     "type":"CODE",
     "hide_input_from_viewers":false,
     "hide_output_from_viewers":false,
     "node_id":"sr8djrak2YyRgqXxMUAhkA"
    }
   }
  }
 ],
 "metadata":{
  "kernelspec":{
   "display_name":"Python",
   "language":"python",
   "name":"python"
  },
  "datalore":{
   "version":1,
   "computation_mode":"REACTIVE",
   "packages":[
    
   ]
  }
 },
 "nbformat":4,
 "nbformat_minor":4
}